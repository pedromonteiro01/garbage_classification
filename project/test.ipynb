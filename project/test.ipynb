{
 "cells": [
  {
   "cell_type": "code",
   "execution_count": 15,
   "metadata": {},
   "outputs": [],
   "source": [
    "import numpy as np\n",
    "import pandas as pd\n",
    "import matplotlib.pyplot as plt\n",
    "from PIL import Image\n",
    "from numpy import asarray\n",
    "from sklearn.datasets import load_digits\n",
    "\n",
    "import os"
   ]
  },
  {
   "cell_type": "code",
   "execution_count": 38,
   "metadata": {},
   "outputs": [
    {
     "name": "stdout",
     "output_type": "stream",
     "text": [
      "[ 0.  0.  5. 13.  9.  1.  0.  0.  0.  0. 13. 15. 10. 15.  5.  0.  0.  3.\n",
      " 15.  2.  0. 11.  8.  0.  0.  4. 12.  0.  0.  8.  8.  0.  0.  5.  8.  0.\n",
      "  0.  9.  8.  0.  0.  4. 11.  0.  1. 12.  7.  0.  0.  2. 14.  5. 10. 12.\n",
      "  0.  0.  0.  0.  6. 13. 10.  0.  0.  0.]\n",
      "[209. 206. 205. ... 138. 138. 139.]\n"
     ]
    }
   ],
   "source": [
    "digits = load_digits()\n",
    "\n",
    "print(digits.data[0])\n",
    "\n",
    "img_size = 64\n",
    "\n",
    "paper1= \"./archive/archive/TRAIN/paper/\"\n",
    "plastic1= \"./archive/archive/TRAIN/plastic/\"\n",
    "metal1 = \"./archive/archive/TRAIN/metal/\"\n",
    "\n",
    "paper2 = \"./archive/garbage_classification/images/paper/\"\n",
    "plastic2 = \"./archive/garbage_classification/images/plastic/\"\n",
    "metal2 = \"./archive/garbage_classification/images/metal/\"\n",
    "\n",
    "images = []\n",
    "\n",
    "for p in range(0,386):\n",
    "    s = ''\n",
    "    if p<10:\n",
    "        s += '00'\n",
    "    elif p < 100:\n",
    "        s += '0'\n",
    "    image = Image.open(plastic1+s+str(p)+\".jpg\")\n",
    "    image = image.resize((img_size, img_size))\n",
    "    image = image.convert(mode=\"L\")\n",
    "    images.append(image)\n",
    "\n",
    "for p in range(1,353):\n",
    "    image = Image.open(plastic2+\"plastic\"+str(p)+\".jpg\")\n",
    "    image = image.resize((img_size, img_size))\n",
    "    image = image.convert(mode=\"L\")\n",
    "    images.append(image)\n",
    "\n",
    "for p in range(0,476):\n",
    "    s = ''\n",
    "    if p<10:\n",
    "        s += '00'\n",
    "    elif p < 100:\n",
    "        s += '0'\n",
    "    image = Image.open(paper1+s+str(p)+\".jpg\")\n",
    "    image = image.resize((img_size, img_size))\n",
    "    image = image.convert(mode=\"L\")\n",
    "    images.append(image)\n",
    "\n",
    "for p in range(1,263):\n",
    "    image = Image.open(paper2+\"paper\"+str(p)+\".jpg\")\n",
    "    image = image.resize((img_size, img_size))\n",
    "    image = image.convert(mode=\"L\")\n",
    "    images.append(image)\n",
    "\n",
    "for p in range(0,328):\n",
    "    s = ''\n",
    "    if p<10:\n",
    "        s += '00'\n",
    "    elif p < 100:\n",
    "        s += '0'\n",
    "    image = Image.open(metal1+s+str(p)+\".jpg\")\n",
    "    image = image.resize((img_size, img_size))\n",
    "    image = image.convert(mode=\"L\")\n",
    "    images.append(image)\n",
    "\n",
    "for p in range(1,411):\n",
    "    image = Image.open(metal2+\"metal\"+str(p)+\".jpg\")\n",
    "    image = image.resize((img_size, img_size))\n",
    "    image = image.convert(mode=\"L\")\n",
    "    images.append(image)\n",
    "\n",
    "X = np.empty((386+476+352+262+328+410, img_size* img_size))\n",
    "index = 0\n",
    "for pl in images:\n",
    "    # Normalize pixel values\n",
    "    pixels = asarray(pl)\n",
    "    pixels = pixels.astype('float32')\n",
    "    pixels /= 255.0\n",
    "    X[index] = np.array(pl).reshape(img_size * img_size)\n",
    "    index += 1\n",
    "# for ul in train_glass:\n",
    "#     X[index] = np.array(ul).reshape(img_size* img_size)\n",
    "#     index += 1    \n",
    "#c = np.zeros(403)\n",
    "pl = np.zeros(386+352) #868\n",
    "pap = np.ones(476+262) #1070\n",
    "m = np.empty(328+410) #738\n",
    "m.fill(2)\n",
    "# p = np.empty(476)\n",
    "# p.fill(2)\n",
    "y = np.concatenate((pl, pap, m), axis=0).reshape(X.shape[0], 1)\n",
    "\n",
    "print(X[0])"
   ]
  },
  {
   "cell_type": "code",
   "execution_count": 7,
   "metadata": {},
   "outputs": [
    {
     "data": {
      "text/plain": [
       "<matplotlib.image.AxesImage at 0x7f8dd3b09310>"
      ]
     },
     "execution_count": 7,
     "metadata": {},
     "output_type": "execute_result"
    },
    {
     "data": {
      "text/plain": [
       "<Figure size 432x288 with 0 Axes>"
      ]
     },
     "metadata": {},
     "output_type": "display_data"
    },
    {
     "data": {
      "image/png": "[encoded data removed]",
      "text/plain": [
       "<Figure size 288x288 with 1 Axes>"
      ]
     },
     "metadata": {
      "needs_background": "light"
     },
     "output_type": "display_data"
    }
   ],
   "source": [
    "plt.gray()\n",
    "plt.matshow(digits.images[0])"
   ]
  },
  {
   "cell_type": "code",
   "execution_count": 39,
   "metadata": {},
   "outputs": [
    {
     "name": "stdout",
     "output_type": "stream",
     "text": [
      "1437\n",
      "360\n",
      "[ 0.  0.  3. 14.  1.  0.  0.  0.  0.  0. 12. 12.  0.  0.  0.  0.  0.  3.\n",
      " 16.  6.  0.  0.  0.  0.  0.  5. 16.  2.  0.  0.  0.  0.  0.  6. 16.  2.\n",
      "  5.  2.  0.  0.  0.  4. 16.  2. 12. 15.  2.  0.  0.  1. 14. 13.  2. 13.\n",
      " 11.  0.  0.  0.  3. 11. 16. 13.  4.  0.]\n",
      "1771\n",
      "443\n",
      "[210. 206. 205. ... 183. 183. 186.]\n"
     ]
    }
   ],
   "source": [
    "from sklearn.model_selection import train_test_split\n",
    "\n",
    "X_train, X_test, y_train, y_test = train_test_split(digits.data, digits.target, test_size=0.2, random_state=42)\n",
    "\n",
    "X_train2, X_test2, y_train2, y_test2 = train_test_split(X, y, test_size=0.2, random_state=42)\n",
    "\n",
    "print(len(X_train))\n",
    "print(len(X_test))\n",
    "print(X_train[0])\n",
    "\n",
    "print(len(X_train2))\n",
    "print(len(X_test2))\n",
    "print(X_train2[0])"
   ]
  },
  {
   "cell_type": "code",
   "execution_count": 40,
   "metadata": {},
   "outputs": [
    {
     "name": "stderr",
     "output_type": "stream",
     "text": [
      "/Users/eduardo/opt/anaconda3/lib/python3.9/site-packages/sklearn/linear_model/_logistic.py:814: ConvergenceWarning: lbfgs failed to converge (status=1):\n",
      "STOP: TOTAL NO. of ITERATIONS REACHED LIMIT.\n",
      "\n",
      "Increase the number of iterations (max_iter) or scale the data as shown in:\n",
      "    https://scikit-learn.org/stable/modules/preprocessing.html\n",
      "Please also refer to the documentation for alternative solver options:\n",
      "    https://scikit-learn.org/stable/modules/linear_model.html#logistic-regression\n",
      "  n_iter_i = _check_optimize_result(\n",
      "/Users/eduardo/opt/anaconda3/lib/python3.9/site-packages/sklearn/utils/validation.py:993: DataConversionWarning: A column-vector y was passed when a 1d array was expected. Please change the shape of y to (n_samples, ), for example using ravel().\n",
      "  y = column_or_1d(y, warn=True)\n"
     ]
    },
    {
     "name": "stdout",
     "output_type": "stream",
     "text": [
      "0.9722222222222222\n",
      "0.835214446952596\n"
     ]
    },
    {
     "name": "stderr",
     "output_type": "stream",
     "text": [
      "/Users/eduardo/opt/anaconda3/lib/python3.9/site-packages/sklearn/linear_model/_logistic.py:814: ConvergenceWarning: lbfgs failed to converge (status=1):\n",
      "STOP: TOTAL NO. of ITERATIONS REACHED LIMIT.\n",
      "\n",
      "Increase the number of iterations (max_iter) or scale the data as shown in:\n",
      "    https://scikit-learn.org/stable/modules/preprocessing.html\n",
      "Please also refer to the documentation for alternative solver options:\n",
      "    https://scikit-learn.org/stable/modules/linear_model.html#logistic-regression\n",
      "  n_iter_i = _check_optimize_result(\n"
     ]
    }
   ],
   "source": [
    "from sklearn.linear_model import LogisticRegression\n",
    "\n",
    "model = LogisticRegression(max_iter=2000)\n",
    "\n",
    "model.fit(X_train, y_train)\n",
    "\n",
    "print(model.score(X_test, y_test))\n",
    "\n",
    "model.fit(X_train2, y_train2)\n",
    "\n",
    "print(model.score(X_test2, y_test2))"
   ]
  },
  {
   "cell_type": "code",
   "execution_count": null,
   "metadata": {},
   "outputs": [],
   "source": []
  }
 ],
 "metadata": {
  "kernelspec": {
   "display_name": "Python 3.9.12 ('base')",
   "language": "python",
   "name": "python3"
  },
  "language_info": {
   "codemirror_mode": {
    "name": "ipython",
    "version": 3
   },
   "file_extension": ".py",
   "mimetype": "text/x-python",
   "name": "python",
   "nbconvert_exporter": "python",
   "pygments_lexer": "ipython3",
   "version": "3.9.12"
  },
  "orig_nbformat": 4,
  "vscode": {
   "interpreter": {
    "hash": "c90818a9e75c05a80397462c9eccb4fd29d99584fd06c16972c458369e729be9"
   }
  }
 },
 "nbformat": 4,
 "nbformat_minor": 2
}
